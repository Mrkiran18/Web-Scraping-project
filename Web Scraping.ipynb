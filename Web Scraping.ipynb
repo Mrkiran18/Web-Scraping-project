{
 "cells": [
  {
   "cell_type": "code",
   "execution_count": 61,
   "id": "3477e179",
   "metadata": {},
   "outputs": [],
   "source": [
    "from bs4 import BeautifulSoup\n",
    "import requests\n",
    "import pandas as pd\n",
    "import numpy as np"
   ]
  },
  {
   "cell_type": "code",
   "execution_count": 62,
   "id": "f9d7043a",
   "metadata": {},
   "outputs": [],
   "source": [
    "url = \"https://webscraper.io/test-sites/e-commerce/allinone/computers/tablets\""
   ]
  },
  {
   "cell_type": "code",
   "execution_count": 63,
   "id": "1cbcb161",
   "metadata": {},
   "outputs": [],
   "source": [
    "r = requests.get(url)"
   ]
  },
  {
   "cell_type": "code",
   "execution_count": 64,
   "id": "c12f370b",
   "metadata": {},
   "outputs": [],
   "source": [
    "soup = BeautifulSoup(r.text,  \"lxml\")"
   ]
  },
  {
   "cell_type": "code",
   "execution_count": 65,
   "id": "33cee1d8",
   "metadata": {},
   "outputs": [
    {
     "name": "stdout",
     "output_type": "stream",
     "text": [
      "[<a class=\"title\" href=\"/test-sites/e-commerce/allinone/product/495\" title=\"Lenovo IdeaTab\">Lenovo IdeaTab</a>, <a class=\"title\" href=\"/test-sites/e-commerce/allinone/product/500\" title=\"IdeaTab A3500L\">IdeaTab A3500L</a>, <a class=\"title\" href=\"/test-sites/e-commerce/allinone/product/496\" title=\"Acer Iconia\">Acer Iconia</a>, <a class=\"title\" href=\"/test-sites/e-commerce/allinone/product/503\" title=\"Galaxy Tab 3\">Galaxy Tab 3</a>, <a class=\"title\" href=\"/test-sites/e-commerce/allinone/product/512\" title=\"Iconia B1-730HD\">Iconia B1-730HD</a>, <a class=\"title\" href=\"/test-sites/e-commerce/allinone/product/508\" title=\"Memo Pad HD 7\">Memo Pad HD 7</a>, <a class=\"title\" href=\"/test-sites/e-commerce/allinone/product/497\" title=\"Asus MeMO Pad\">Asus MeMO Pad</a>, <a class=\"title\" href=\"/test-sites/e-commerce/allinone/product/498\" title=\"Amazon Kindle\">Amazon Kindle</a>, <a class=\"title\" href=\"/test-sites/e-commerce/allinone/product/507\" title=\"Galaxy Tab 3\">Galaxy Tab 3</a>, <a class=\"title\" href=\"/test-sites/e-commerce/allinone/product/513\" title=\"IdeaTab A8-50\">IdeaTab A8-50</a>, <a class=\"title\" href=\"/test-sites/e-commerce/allinone/product/505\" title=\"MeMO Pad 7\">MeMO Pad 7</a>, <a class=\"title\" href=\"/test-sites/e-commerce/allinone/product/502\" title=\"IdeaTab A3500-H\">IdeaTab A3500-H</a>, <a class=\"title\" href=\"/test-sites/e-commerce/allinone/product/511\" title=\"IdeaTab S5000\">IdeaTab S5000</a>, <a class=\"title\" href=\"/test-sites/e-commerce/allinone/product/506\" title=\"Galaxy Tab 4\">Galaxy Tab 4</a>, <a class=\"title\" href=\"/test-sites/e-commerce/allinone/product/501\" title=\"Galaxy Tab\">Galaxy Tab</a>, <a class=\"title\" href=\"/test-sites/e-commerce/allinone/product/510\" title=\"MeMo PAD FHD 10\">MeMo PAD FHD 10</a>, <a class=\"title\" href=\"/test-sites/e-commerce/allinone/product/514\" title=\"Galaxy Note\">Galaxy Note</a>, <a class=\"title\" href=\"/test-sites/e-commerce/allinone/product/504\" title=\"Galaxy Note\">Galaxy Note</a>, <a class=\"title\" href=\"/test-sites/e-commerce/allinone/product/499\" title=\"iPad Mini Retina\">iPad Mini Retina</a>, <a class=\"title\" href=\"/test-sites/e-commerce/allinone/product/509\" title=\"Galaxy Note 10.1\">Galaxy Note 10.1</a>, <a class=\"title\" href=\"/test-sites/e-commerce/allinone/product/515\" title=\"Apple iPad Air\">Apple iPad Air</a>]\n"
     ]
    }
   ],
   "source": [
    "names = soup.find_all(\"a\", class_ = \"title\")\n",
    "print(names)"
   ]
  },
  {
   "cell_type": "code",
   "execution_count": 66,
   "id": "ff2ddb5f",
   "metadata": {},
   "outputs": [],
   "source": [
    "product_name = []"
   ]
  },
  {
   "cell_type": "code",
   "execution_count": 67,
   "id": "f77d4a88",
   "metadata": {},
   "outputs": [],
   "source": [
    "for i in names:\n",
    "    name = i.text\n",
    "    product_name.append(name)"
   ]
  },
  {
   "cell_type": "code",
   "execution_count": 68,
   "id": "d11666c9",
   "metadata": {},
   "outputs": [
    {
     "name": "stdout",
     "output_type": "stream",
     "text": [
      "['Lenovo IdeaTab', 'IdeaTab A3500L', 'Acer Iconia', 'Galaxy Tab 3', 'Iconia B1-730HD', 'Memo Pad HD 7', 'Asus MeMO Pad', 'Amazon Kindle', 'Galaxy Tab 3', 'IdeaTab A8-50', 'MeMO Pad 7', 'IdeaTab A3500-H', 'IdeaTab S5000', 'Galaxy Tab 4', 'Galaxy Tab', 'MeMo PAD FHD 10', 'Galaxy Note', 'Galaxy Note', 'iPad Mini Retina', 'Galaxy Note 10.1', 'Apple iPad Air']\n"
     ]
    }
   ],
   "source": [
    "print(product_name)"
   ]
  },
  {
   "cell_type": "code",
   "execution_count": 69,
   "id": "abc2d631",
   "metadata": {},
   "outputs": [],
   "source": [
    "prices = soup.find_all(\"h4\", class_ = \"pull-right price\")\n",
    "prices_list = []\n",
    "for i in prices:\n",
    "    price = i.text\n",
    "    prices_list.append(price)\n",
    "    "
   ]
  },
  {
   "cell_type": "code",
   "execution_count": 70,
   "id": "188e747d",
   "metadata": {},
   "outputs": [
    {
     "name": "stdout",
     "output_type": "stream",
     "text": [
      "['$69.99', '$88.99', '$96.99', '$97.99', '$99.99', '$101.99', '$102.99', '$103.99', '$107.99', '$121.99', '$130.99', '$148.99', '$172.99', '$233.99', '$251.99', '$320.99', '$399.99', '$489.99', '$537.99', '$587.99', '$603.99']\n"
     ]
    }
   ],
   "source": [
    "print(prices_list)"
   ]
  },
  {
   "cell_type": "code",
   "execution_count": 71,
   "id": "921b4859",
   "metadata": {},
   "outputs": [],
   "source": [
    "desc = soup.find_all(\"p\", class_ = \"description\")#####desc = description\n",
    "desc_list = []\n",
    "for i in desc:\n",
    "    des = i.text\n",
    "    desc_list.append(des)\n",
    "    "
   ]
  },
  {
   "cell_type": "code",
   "execution_count": 72,
   "id": "7df8756b",
   "metadata": {},
   "outputs": [
    {
     "name": "stdout",
     "output_type": "stream",
     "text": [
      "['7\" screen, Android', 'Black, 7\" IPS, Quad-Core 1.2GHz, 8GB, Android 4.2', '7\" screen, Android, 16GB', '7\", 8GB, Wi-Fi, Android 4.2, White', 'Black, 7\", 1.6GHz Dual-Core, 8GB, Android 4.4', 'IPS, Dual-Core 1.2GHz, 8GB, Android 4.3', '7\" screen, Android, 8GB', '6\" screen, wifi', '7\", 8GB, Wi-Fi, Android 4.2, Yellow', 'Blue, 8\" IPS, Quad-Core 1.3GHz, 16GB, Android 4.2', 'White, 7\", Atom 1.2GHz, 8GB, Android 4.4', 'Blue, 7\" IPS, Quad-Core 1.3GHz, 8GB, 3G, Android 4.2', 'Silver, 7\" IPS, Quad-Core 1.2Ghz, 16GB, 3G, Android 4.2', 'LTE (SM-T235), Quad-Core 1.2GHz, 8GB, Black', '16GB, White', 'White, 10.1\" IPS, 1.6GHz, 2GB, 16GB, Android 4.2', '10.1\", 3G, Android 4.0, Garnet Red', '12.2\", 32GB, WiFi, Android 4.4, White', 'Wi-Fi + Cellular, 32GB, Silver', '10.1\", 32GB, Black', 'Wi-Fi, 64GB, Silver']\n"
     ]
    }
   ],
   "source": [
    "print(desc_list)"
   ]
  },
  {
   "cell_type": "code",
   "execution_count": 73,
   "id": "b1d16088",
   "metadata": {},
   "outputs": [],
   "source": [
    "reviews = soup.find_all(\"p\", class_ = \"pull-right\")\n",
    "reviews_list = []\n",
    "for i in reviews:\n",
    "    rew = i.text\n",
    "    reviews_list.append(rew)"
   ]
  },
  {
   "cell_type": "code",
   "execution_count": 74,
   "id": "aafc5888",
   "metadata": {},
   "outputs": [
    {
     "name": "stdout",
     "output_type": "stream",
     "text": [
      "['7 reviews', '7 reviews', '7 reviews', '2 reviews', '1 reviews', '10 reviews', '14 reviews', '3 reviews', '14 reviews', '13 reviews', '11 reviews', '9 reviews', '8 reviews', '1 reviews', '14 reviews', '7 reviews', '12 reviews', '9 reviews', '8 reviews', '6 reviews', '7 reviews']\n"
     ]
    }
   ],
   "source": [
    "print(reviews_list)"
   ]
  },
  {
   "cell_type": "code",
   "execution_count": 75,
   "id": "2d37ab73",
   "metadata": {},
   "outputs": [
    {
     "name": "stdout",
     "output_type": "stream",
     "text": [
      "        Product Name   Prices  \\\n",
      "0     Lenovo IdeaTab   $69.99   \n",
      "1     IdeaTab A3500L   $88.99   \n",
      "2        Acer Iconia   $96.99   \n",
      "3       Galaxy Tab 3   $97.99   \n",
      "4    Iconia B1-730HD   $99.99   \n",
      "5      Memo Pad HD 7  $101.99   \n",
      "6      Asus MeMO Pad  $102.99   \n",
      "7      Amazon Kindle  $103.99   \n",
      "8       Galaxy Tab 3  $107.99   \n",
      "9      IdeaTab A8-50  $121.99   \n",
      "10        MeMO Pad 7  $130.99   \n",
      "11   IdeaTab A3500-H  $148.99   \n",
      "12     IdeaTab S5000  $172.99   \n",
      "13      Galaxy Tab 4  $233.99   \n",
      "14        Galaxy Tab  $251.99   \n",
      "15   MeMo PAD FHD 10  $320.99   \n",
      "16       Galaxy Note  $399.99   \n",
      "17       Galaxy Note  $489.99   \n",
      "18  iPad Mini Retina  $537.99   \n",
      "19  Galaxy Note 10.1  $587.99   \n",
      "20    Apple iPad Air  $603.99   \n",
      "\n",
      "                                          Description number of reviews  \n",
      "0                                  7\" screen, Android         7 reviews  \n",
      "1   Black, 7\" IPS, Quad-Core 1.2GHz, 8GB, Android 4.2         7 reviews  \n",
      "2                            7\" screen, Android, 16GB         7 reviews  \n",
      "3                  7\", 8GB, Wi-Fi, Android 4.2, White         2 reviews  \n",
      "4       Black, 7\", 1.6GHz Dual-Core, 8GB, Android 4.4         1 reviews  \n",
      "5             IPS, Dual-Core 1.2GHz, 8GB, Android 4.3        10 reviews  \n",
      "6                             7\" screen, Android, 8GB        14 reviews  \n",
      "7                                     6\" screen, wifi         3 reviews  \n",
      "8                 7\", 8GB, Wi-Fi, Android 4.2, Yellow        14 reviews  \n",
      "9   Blue, 8\" IPS, Quad-Core 1.3GHz, 16GB, Android 4.2        13 reviews  \n",
      "10           White, 7\", Atom 1.2GHz, 8GB, Android 4.4        11 reviews  \n",
      "11  Blue, 7\" IPS, Quad-Core 1.3GHz, 8GB, 3G, Andro...         9 reviews  \n",
      "12  Silver, 7\" IPS, Quad-Core 1.2Ghz, 16GB, 3G, An...         8 reviews  \n",
      "13        LTE (SM-T235), Quad-Core 1.2GHz, 8GB, Black         1 reviews  \n",
      "14                                        16GB, White        14 reviews  \n",
      "15   White, 10.1\" IPS, 1.6GHz, 2GB, 16GB, Android 4.2         7 reviews  \n",
      "16                 10.1\", 3G, Android 4.0, Garnet Red        12 reviews  \n",
      "17              12.2\", 32GB, WiFi, Android 4.4, White         9 reviews  \n",
      "18                     Wi-Fi + Cellular, 32GB, Silver         8 reviews  \n",
      "19                                 10.1\", 32GB, Black         6 reviews  \n",
      "20                                Wi-Fi, 64GB, Silver         7 reviews  \n"
     ]
    }
   ],
   "source": [
    "df = pd.DataFrame({\"Product Name\":product_name,  \"Prices\":prices_list,  \"Description\":desc_list,\"number of reviews\":reviews_list})\n",
    "print(df)"
   ]
  },
  {
   "cell_type": "code",
   "execution_count": null,
   "id": "98083fba",
   "metadata": {},
   "outputs": [],
   "source": []
  }
 ],
 "metadata": {
  "kernelspec": {
   "display_name": "Python 3 (ipykernel)",
   "language": "python",
   "name": "python3"
  },
  "language_info": {
   "codemirror_mode": {
    "name": "ipython",
    "version": 3
   },
   "file_extension": ".py",
   "mimetype": "text/x-python",
   "name": "python",
   "nbconvert_exporter": "python",
   "pygments_lexer": "ipython3",
   "version": "3.9.12"
  }
 },
 "nbformat": 4,
 "nbformat_minor": 5
}
